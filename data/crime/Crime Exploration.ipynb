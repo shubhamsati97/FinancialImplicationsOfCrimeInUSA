{
 "cells": [
  {
   "cell_type": "code",
   "execution_count": 154,
   "id": "fa731295",
   "metadata": {},
   "outputs": [],
   "source": [
    "import seaborn as sns\n",
    "import pandas as pd\n",
    "import matplotlib.pyplot as plt\n"
   ]
  },
  {
   "cell_type": "code",
   "execution_count": 155,
   "id": "dac3b3cd",
   "metadata": {},
   "outputs": [],
   "source": [
    "dataset_path = \"./estimated_crimes_1979_2022.csv\"\n",
    "data = pd.read_csv(dataset_path)\n",
    "data.head()\n",
    "data = data.drop([\"state_abbr\",\"state_name\",\"caveats\"],axis=1)\n"
   ]
  },
  {
   "cell_type": "code",
   "execution_count": 156,
   "id": "9fca18c3",
   "metadata": {},
   "outputs": [],
   "source": [
    "aggregation_functions = {}\n",
    "for col_name in data.columns:\n",
    "    if col_name == \"year\":\n",
    "        aggregation_functions[col_name] = 'equals'\n",
    "    if col_name == \"population\" :\n",
    "        aggregation_functions[col_name] = 'sum'\n",
    "    else:\n",
    "        aggregation_functions[col_name] = 'mean'\n",
    "    \n"
   ]
  },
  {
   "cell_type": "code",
   "execution_count": 157,
   "id": "e0a1fde0",
   "metadata": {},
   "outputs": [
    {
     "name": "stdout",
     "output_type": "stream",
     "text": [
      "44\n",
      "528\n"
     ]
    }
   ],
   "source": [
    "# aggregation_functions = {'population': 'sum','violent_crime':'avg','homicide':'sum','rape_legacy':'sum',}\n",
    "modified_data = data.groupby(data['year']).aggregate(aggregation_functions)\n",
    "modified_data['rape_legacy'].fillna(0, inplace=True)\n",
    "modified_data['rape_revised'].fillna(0, inplace=True)\n",
    "\n",
    "modified_data['rape'] = modified_data['rape_legacy']+ modified_data['rape_revised']\n",
    "modified_data = modified_data.drop([\"rape_legacy\",\"rape_revised\"],axis=1)\n",
    "\n",
    "print(len(modified_data))\n",
    "\n",
    "# corr = modified_data.corr()\n",
    "# ax = sns.heatmap(corr , vmin=0, vmax=1)\n",
    "# plt.show() \n",
    "\n",
    "df_expanded = modified_data.loc[modified_data.index.repeat(12)].reset_index(drop=True)\n",
    "print(len(df_expanded))\n"
   ]
  },
  {
   "cell_type": "code",
   "execution_count": 138,
   "id": "9bd7a96c",
   "metadata": {},
   "outputs": [
    {
     "name": "stdout",
     "output_type": "stream",
     "text": [
      "      year  population  violent_crime  homicide     robbery  \\\n",
      "0   1979.0   440196000     322.607238  5.731303  128.365251   \n",
      "1   1979.0   440196000     322.607238  5.731303  128.365251   \n",
      "2   1979.0   440196000     322.607238  5.731303  128.365251   \n",
      "3   1979.0   440196000     322.607238  5.731303  128.365251   \n",
      "4   1979.0   440196000     322.607238  5.731303  128.365251   \n",
      "5   1979.0   440196000     322.607238  5.731303  128.365251   \n",
      "6   1979.0   440196000     322.607238  5.731303  128.365251   \n",
      "7   1979.0   440196000     322.607238  5.731303  128.365251   \n",
      "8   1979.0   440196000     322.607238  5.731303  128.365251   \n",
      "9   1979.0   440196000     322.607238  5.731303  128.365251   \n",
      "10  1979.0   440196000     322.607238  5.731303  128.365251   \n",
      "11  1979.0   440196000     322.607238  5.731303  128.365251   \n",
      "12  1980.0   450738528     359.050881  6.154380  151.102564   \n",
      "13  1980.0   450738528     359.050881  6.154380  151.102564   \n",
      "14  1980.0   450738528     359.050881  6.154380  151.102564   \n",
      "15  1980.0   450738528     359.050881  6.154380  151.102564   \n",
      "16  1980.0   450738528     359.050881  6.154380  151.102564   \n",
      "17  1980.0   450738528     359.050881  6.154380  151.102564   \n",
      "18  1980.0   450738528     359.050881  6.154380  151.102564   \n",
      "19  1980.0   450738528     359.050881  6.154380  151.102564   \n",
      "20  1980.0   450738528     359.050881  6.154380  151.102564   \n",
      "21  1980.0   450738528     359.050881  6.154380  151.102564   \n",
      "22  1980.0   450738528     359.050881  6.154380  151.102564   \n",
      "23  1980.0   450738528     359.050881  6.154380  151.102564   \n",
      "\n",
      "    aggravated_assault  property_crime     burglary      larceny  \\\n",
      "0           168.111378     2949.020166   888.810363  1762.995059   \n",
      "1           168.111378     2949.020166   888.810363  1762.995059   \n",
      "2           168.111378     2949.020166   888.810363  1762.995059   \n",
      "3           168.111378     2949.020166   888.810363  1762.995059   \n",
      "4           168.111378     2949.020166   888.810363  1762.995059   \n",
      "5           168.111378     2949.020166   888.810363  1762.995059   \n",
      "6           168.111378     2949.020166   888.810363  1762.995059   \n",
      "7           168.111378     2949.020166   888.810363  1762.995059   \n",
      "8           168.111378     2949.020166   888.810363  1762.995059   \n",
      "9           168.111378     2949.020166   888.810363  1762.995059   \n",
      "10          168.111378     2949.020166   888.810363  1762.995059   \n",
      "11          168.111378     2949.020166   888.810363  1762.995059   \n",
      "12          179.633681     3222.027244  1013.665865  1906.110577   \n",
      "13          179.633681     3222.027244  1013.665865  1906.110577   \n",
      "14          179.633681     3222.027244  1013.665865  1906.110577   \n",
      "15          179.633681     3222.027244  1013.665865  1906.110577   \n",
      "16          179.633681     3222.027244  1013.665865  1906.110577   \n",
      "17          179.633681     3222.027244  1013.665865  1906.110577   \n",
      "18          179.633681     3222.027244  1013.665865  1906.110577   \n",
      "19          179.633681     3222.027244  1013.665865  1906.110577   \n",
      "20          179.633681     3222.027244  1013.665865  1906.110577   \n",
      "21          179.633681     3222.027244  1013.665865  1906.110577   \n",
      "22          179.633681     3222.027244  1013.665865  1906.110577   \n",
      "23          179.633681     3222.027244  1013.665865  1906.110577   \n",
      "\n",
      "    motor_vehicle_theft       rape  month  \n",
      "0            297.214744  20.399306      1  \n",
      "1            297.214744  20.399306      2  \n",
      "2            297.214744  20.399306      3  \n",
      "3            297.214744  20.399306      4  \n",
      "4            297.214744  20.399306      5  \n",
      "5            297.214744  20.399306      6  \n",
      "6            297.214744  20.399306      7  \n",
      "7            297.214744  20.399306      8  \n",
      "8            297.214744  20.399306      9  \n",
      "9            297.214744  20.399306     10  \n",
      "10           297.214744  20.399306     11  \n",
      "11           297.214744  20.399306     12  \n",
      "12           302.264156  22.160256      1  \n",
      "13           302.264156  22.160256      2  \n",
      "14           302.264156  22.160256      3  \n",
      "15           302.264156  22.160256      4  \n",
      "16           302.264156  22.160256      5  \n",
      "17           302.264156  22.160256      6  \n",
      "18           302.264156  22.160256      7  \n",
      "19           302.264156  22.160256      8  \n",
      "20           302.264156  22.160256      9  \n",
      "21           302.264156  22.160256     10  \n",
      "22           302.264156  22.160256     11  \n",
      "23           302.264156  22.160256     12  \n",
      "    year  population  violent_crime  homicide  robbery  aggravated_assault  \\\n",
      "0   1979   440196000            322         5      128                 168   \n",
      "1   1979   440196000            322         5      128                 168   \n",
      "2   1979   440196000            322         5      128                 168   \n",
      "3   1979   440196000            322         5      128                 168   \n",
      "4   1979   440196000            322         5      128                 168   \n",
      "5   1979   440196000            322         5      128                 168   \n",
      "6   1979   440196000            322         5      128                 168   \n",
      "7   1979   440196000            322         5      128                 168   \n",
      "8   1979   440196000            322         5      128                 168   \n",
      "9   1979   440196000            322         5      128                 168   \n",
      "10  1979   440196000            322         5      128                 168   \n",
      "11  1979   440196000            322         5      128                 168   \n",
      "12  1980   450738528            359         6      151                 179   \n",
      "13  1980   450738528            359         6      151                 179   \n",
      "14  1980   450738528            359         6      151                 179   \n",
      "15  1980   450738528            359         6      151                 179   \n",
      "16  1980   450738528            359         6      151                 179   \n",
      "17  1980   450738528            359         6      151                 179   \n",
      "18  1980   450738528            359         6      151                 179   \n",
      "19  1980   450738528            359         6      151                 179   \n",
      "20  1980   450738528            359         6      151                 179   \n",
      "21  1980   450738528            359         6      151                 179   \n",
      "22  1980   450738528            359         6      151                 179   \n",
      "23  1980   450738528            359         6      151                 179   \n",
      "\n",
      "    property_crime  burglary  larceny  motor_vehicle_theft  rape  month  \n",
      "0             2949       888     1762                  297    20      1  \n",
      "1             2949       888     1762                  297    20      2  \n",
      "2             2949       888     1762                  297    20      3  \n",
      "3             2949       888     1762                  297    20      4  \n",
      "4             2949       888     1762                  297    20      5  \n",
      "5             2949       888     1762                  297    20      6  \n",
      "6             2949       888     1762                  297    20      7  \n",
      "7             2949       888     1762                  297    20      8  \n",
      "8             2949       888     1762                  297    20      9  \n",
      "9             2949       888     1762                  297    20     10  \n",
      "10            2949       888     1762                  297    20     11  \n",
      "11            2949       888     1762                  297    20     12  \n",
      "12            3222      1013     1906                  302    22      1  \n",
      "13            3222      1013     1906                  302    22      2  \n",
      "14            3222      1013     1906                  302    22      3  \n",
      "15            3222      1013     1906                  302    22      4  \n",
      "16            3222      1013     1906                  302    22      5  \n",
      "17            3222      1013     1906                  302    22      6  \n",
      "18            3222      1013     1906                  302    22      7  \n",
      "19            3222      1013     1906                  302    22      8  \n",
      "20            3222      1013     1906                  302    22      9  \n",
      "21            3222      1013     1906                  302    22     10  \n",
      "22            3222      1013     1906                  302    22     11  \n",
      "23            3222      1013     1906                  302    22     12  \n"
     ]
    }
   ],
   "source": [
    "df_expanded[\"month\"] = (df_expanded.index % 12) + 1\n",
    "df_expanded[\"violent_crime\"]  = df_expanded[\"violent_crime\"] / 12\n",
    "df_expanded[\"homicide\"]  = df_expanded[\"homicide\"] / 12\n",
    "df_expanded[\"robbery\"]  = df_expanded[\"robbery\"] / 12\n",
    "df_expanded[\"aggravated_assault\"]  = df_expanded[\"aggravated_assault\"] / 12\n",
    "df_expanded[\"property_crime\"]  = df_expanded[\"property_crime\"] / 12\n",
    "df_expanded[\"burglary\"]  = df_expanded[\"burglary\"] / 12\n",
    "df_expanded[\"larceny\"]  = df_expanded[\"larceny\"] / 12\n",
    "df_expanded[\"motor_vehicle_theft\"]  = df_expanded[\"motor_vehicle_theft\"] / 12\n",
    "df_expanded[\"rape\"]  = df_expanded[\"rape\"] / 12\n",
    "print(df_expanded[:24])\n",
    "df_expanded = df_expanded.astype(int)\n",
    "print(df_expanded[:24])\n"
   ]
  },
  {
   "cell_type": "code",
   "execution_count": 159,
   "id": "9af5d745",
   "metadata": {},
   "outputs": [],
   "source": [
    "df_expanded.to_csv('monthly_crime_2.csv', index=False)\n"
   ]
  },
  {
   "cell_type": "code",
   "execution_count": 158,
   "id": "cd47ea64",
   "metadata": {},
   "outputs": [
    {
     "name": "stdout",
     "output_type": "stream",
     "text": [
      "528\n"
     ]
    }
   ],
   "source": [
    "print(len(df_expanded))"
   ]
  },
  {
   "cell_type": "code",
   "execution_count": null,
   "id": "502161a0",
   "metadata": {},
   "outputs": [],
   "source": []
  }
 ],
 "metadata": {
  "kernelspec": {
   "display_name": "Python 3 (ipykernel)",
   "language": "python",
   "name": "python3"
  },
  "language_info": {
   "codemirror_mode": {
    "name": "ipython",
    "version": 3
   },
   "file_extension": ".py",
   "mimetype": "text/x-python",
   "name": "python",
   "nbconvert_exporter": "python",
   "pygments_lexer": "ipython3",
   "version": "3.9.13"
  }
 },
 "nbformat": 4,
 "nbformat_minor": 5
}
