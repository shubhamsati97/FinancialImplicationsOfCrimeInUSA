{
 "cells": [
  {
   "cell_type": "code",
   "execution_count": 2,
   "metadata": {
    "pycharm": {
     "name": "#%%\n"
    }
   },
   "outputs": [
    {
     "name": "stderr",
     "output_type": "stream",
     "text": [
      "/Users/shubhamsati/Workspace/FinancialImplicationsOfCrimeInUSA/venv/lib/python3.9/site-packages/urllib3/__init__.py:34: NotOpenSSLWarning: urllib3 v2.0 only supports OpenSSL 1.1.1+, currently the 'ssl' module is compiled with 'LibreSSL 2.8.3'. See: https://github.com/urllib3/urllib3/issues/3020\n",
      "  warnings.warn(\n"
     ]
    }
   ],
   "source": [
    "import yfinance as yf\n",
    "from datetime import datetime\n",
    "import matplotlib.pyplot as plt\n"
   ]
  },
  {
   "cell_type": "code",
   "execution_count": null,
   "outputs": [],
   "source": [
    "def fetch_ticker_data(ticker: str, start_date):\n",
    "    # start_date = datetime(2005, 10, 10)\n",
    "    end_date = datetime.now()\n",
    "    data = yf.download(ticker,start=start_date, end=end_date)\n",
    "    data.head()\n",
    "    print(data.columns)\n",
    "    data['Close'].plot(kind='line')\n",
    "    plt.xlabel('Date')\n",
    "    plt.ylabel('Closing Price')\n",
    "    plt.title(f'Closing Price of {ticker} from ({start_date} to {end_date})')\n",
    "    return data"
   ],
   "metadata": {
    "collapsed": false,
    "pycharm": {
     "name": "#%%\n"
    }
   }
  },
  {
   "cell_type": "code",
   "execution_count": null,
   "outputs": [],
   "source": [
    "# SPDR S&P 500 ETF Trust\n",
    "ticker = \"SPY\"\n",
    "spy_data = fetch_ticker_data(ticker=ticker)"
   ],
   "metadata": {
    "collapsed": false,
    "pycharm": {
     "name": "#%%\n"
    }
   }
  },
  {
   "cell_type": "code",
   "execution_count": null,
   "outputs": [],
   "source": [
    "# SPDR® S&P Health Care Equipment ETF\n",
    "ticker = \"XHE\"\n",
    "xhe_data = fetch_ticker_data(ticker=ticker)"
   ],
   "metadata": {
    "collapsed": false,
    "pycharm": {
     "name": "#%%\n"
    }
   }
  },
  {
   "cell_type": "code",
   "execution_count": null,
   "outputs": [],
   "source": [
    "# SPDR S&P Aerospace & Defense ETF\n",
    "ticker = \"XAR\"\n",
    "xar_data = fetch_ticker_data(ticker=ticker)"
   ],
   "metadata": {
    "collapsed": false,
    "pycharm": {
     "name": "#%%\n"
    }
   }
  },
  {
   "cell_type": "code",
   "execution_count": null,
   "outputs": [],
   "source": [
    "yearly_spy_data = spy_data.resample('Y').agg({\n",
    "    'Open': 'mean',\n",
    "    'High': 'mean',\n",
    "    'Low': 'mean',\n",
    "    'Close': 'mean',\n",
    "    'Adj Close': 'mean',\n",
    "    'Volume': 'sum'\n",
    "})\n",
    "yearly_spy_data.to_csv('yearly_spy_data.csv')"
   ],
   "metadata": {
    "collapsed": false,
    "pycharm": {
     "name": "#%%\n"
    }
   }
  },
  {
   "cell_type": "code",
   "execution_count": null,
   "outputs": [],
   "source": [
    "yearly_xhe_data = xhe_data.resample('Y').agg({\n",
    "    'Open': 'mean',\n",
    "    'High': 'mean',\n",
    "    'Low': 'mean',\n",
    "    'Close': 'mean',\n",
    "    'Adj Close': 'mean',\n",
    "    'Volume': 'sum'\n",
    "})\n",
    "yearly_xhe_data.to_csv('yearly_xhe_data.csv')"
   ],
   "metadata": {
    "collapsed": false,
    "pycharm": {
     "name": "#%%\n"
    }
   }
  },
  {
   "cell_type": "code",
   "execution_count": null,
   "outputs": [],
   "source": [
    "yearly_xar_data = xhe_data.resample('Y').agg({\n",
    "    'Open': 'mean',\n",
    "    'High': 'mean',\n",
    "    'Low': 'mean',\n",
    "    'Close': 'mean',\n",
    "    'Adj Close': 'mean',\n",
    "    'Volume': 'sum'\n",
    "})\n",
    "yearly_xar_data.to_csv('yearly_xar_data.csv')"
   ],
   "metadata": {
    "collapsed": false,
    "pycharm": {
     "name": "#%%\n"
    }
   }
  },
  {
   "cell_type": "code",
   "execution_count": null,
   "outputs": [],
   "source": [
    "monthly_spy_data = spy_data.resample('M').agg({\n",
    "    'Open': 'mean',\n",
    "    'High': 'mean',\n",
    "    'Low': 'mean',\n",
    "    'Close': 'mean',\n",
    "    'Adj Close': 'mean',\n",
    "    'Volume': 'sum'\n",
    "})\n",
    "monthly_spy_data.to_csv('csv_files/monthly_spy_data.csv')"
   ],
   "metadata": {
    "collapsed": false,
    "pycharm": {
     "name": "#%%\n"
    }
   }
  },
  {
   "cell_type": "code",
   "execution_count": null,
   "outputs": [],
   "source": [
    "monthly_xhe_data = xhe_data.resample('M').agg({\n",
    "    'Open': 'mean',\n",
    "    'High': 'mean',\n",
    "    'Low': 'mean',\n",
    "    'Close': 'mean',\n",
    "    'Adj Close': 'mean',\n",
    "    'Volume': 'sum'\n",
    "})\n",
    "monthly_xhe_data.to_csv('csv_files/monthly_xhe_data.csv')"
   ],
   "metadata": {
    "collapsed": false,
    "pycharm": {
     "name": "#%%\n"
    }
   }
  },
  {
   "cell_type": "code",
   "execution_count": null,
   "outputs": [],
   "source": [
    "monthly_xar_data = xar_data.resample('M').agg({\n",
    "    'Open': 'mean',\n",
    "    'High': 'mean',\n",
    "    'Low': 'mean',\n",
    "    'Close': 'mean',\n",
    "    'Adj Close': 'mean',\n",
    "    'Volume': 'sum'\n",
    "})\n",
    "monthly_xar_data.to_csv('csv_files/monthly_xar_data.csv')"
   ],
   "metadata": {
    "collapsed": false,
    "pycharm": {
     "name": "#%%\n"
    }
   }
  },
  {
   "cell_type": "code",
   "execution_count": null,
   "outputs": [],
   "source": [
    "# Real Estate Select Sector SPDR Fund\n",
    "start_date = datetime(2015, 1, 1)\n",
    "ticker = \"XLRE\"\n",
    "xlre_data = fetch_ticker_data(ticker=ticker,start_date=start_date)\n",
    "monthly_xlre_data = xlre_data.resample('M').agg({\n",
    "    'Open': 'mean',\n",
    "    'High': 'mean',\n",
    "    'Low': 'mean',\n",
    "    'Close': 'mean',\n",
    "    'Adj Close': 'mean',\n",
    "    'Volume': 'sum'\n",
    "})\n",
    "monthly_xlre_data.to_csv('csv_files/monthly_xlre_data.csv')"
   ],
   "metadata": {
    "collapsed": false,
    "pycharm": {
     "name": "#%%\n"
    }
   }
  }
 ],
 "metadata": {
  "kernelspec": {
   "display_name": "Python 3 (ipykernel)",
   "language": "python",
   "name": "python3"
  },
  "language_info": {
   "codemirror_mode": {
    "name": "ipython",
    "version": 3
   },
   "file_extension": ".py",
   "mimetype": "text/x-python",
   "name": "python",
   "nbconvert_exporter": "python",
   "pygments_lexer": "ipython3",
   "version": "3.9.6"
  }
 },
 "nbformat": 4,
 "nbformat_minor": 4
}