{
 "cells": [
  {
   "cell_type": "code",
   "execution_count": 1,
   "metadata": {
    "collapsed": false,
    "jupyter": {
     "outputs_hidden": false
    },
    "pycharm": {
     "name": "#%%\n"
    }
   },
   "outputs": [],
   "source": [
    "import pandas as pd\n",
    "from sklearn.model_selection import train_test_split\n",
    "from sklearn.naive_bayes import MultinomialNB\n",
    "from sklearn.preprocessing import MinMaxScaler, Normalizer\n",
    "from sklearn.metrics import accuracy_score, f1_score\n",
    "\n",
    "spy_df = pd.read_csv(\"../../data/finance/csv_files/monthly_spy_data.csv\")\n",
    "spy_df['Date'] = pd.to_datetime(spy_df['Date'])\n",
    "spy_df['year'] = spy_df['Date'].dt.year\n",
    "spy_df['month'] = spy_df['Date'].dt.month\n",
    "spy_df_extracted = spy_df[['year', 'month', 'Close']]\n",
    "\n",
    "crime_df = pd.read_csv(\"../../data/crime/monthly_crime.csv\")\n",
    "total_crime_extracted = crime_df[['year', 'month', 'violent_crime', 'homicide', 'robbery', 'aggravated_assault', 'property_crime', 'burglary','motor_vehicle_theft','rape']]\n",
    "\n",
    "merged_df_spy = pd.merge(total_crime_extracted, spy_df_extracted, on=['year', 'month'], how='inner')"
   ]
  },
  {
   "cell_type": "code",
   "execution_count": null,
   "metadata": {
    "collapsed": false,
    "jupyter": {
     "outputs_hidden": false
    },
    "pycharm": {
     "name": "#%%\n"
    }
   },
   "outputs": [],
   "source": [
    "scaler = MinMaxScaler()\n",
    "features = merged_df_spy.iloc[:, :-1]\n",
    "features_scaled = scaler.fit_transform(features)\n",
    "\n",
    "normalizer = Normalizer()\n",
    "target = merged_df_spy.iloc[:, -1:]\n",
    "target = normalizer.fit_transform(target)"
   ]
  },
  {
   "cell_type": "code",
   "execution_count": null,
   "metadata": {
    "collapsed": false,
    "jupyter": {
     "outputs_hidden": false
    },
    "pycharm": {
     "name": "#%%\n"
    }
   },
   "outputs": [],
   "source": [
    "features_scaled"
   ]
  },
  {
   "cell_type": "code",
   "execution_count": null,
   "metadata": {
    "collapsed": false,
    "jupyter": {
     "outputs_hidden": false
    },
    "pycharm": {
     "name": "#%%\n"
    }
   },
   "outputs": [],
   "source": [
    "from sklearn.decomposition import PCA\n",
    "\n",
    "pca = PCA(n_components=2)\n",
    "pca.fit(features_scaled)\n",
    "features_scaled = pca.transform(features_scaled)"
   ]
  },
  {
   "cell_type": "code",
   "execution_count": null,
   "metadata": {
    "collapsed": false,
    "jupyter": {
     "outputs_hidden": false
    },
    "pycharm": {
     "name": "#%%\n"
    }
   },
   "outputs": [],
   "source": [
    "merged_df_spy.head()"
   ]
  },
  {
   "cell_type": "code",
   "execution_count": null,
   "metadata": {
    "collapsed": false,
    "jupyter": {
     "outputs_hidden": false
    },
    "pycharm": {
     "name": "#%%\n"
    }
   },
   "outputs": [],
   "source": [
    "len(merged_df_spy)"
   ]
  },
  {
   "cell_type": "code",
   "execution_count": 2,
   "metadata": {
    "collapsed": false,
    "jupyter": {
     "outputs_hidden": false
    },
    "pycharm": {
     "name": "#%%\n"
    }
   },
   "outputs": [
    {
     "data": {
      "text/html": [
       "<div>\n",
       "<style scoped>\n",
       "    .dataframe tbody tr th:only-of-type {\n",
       "        vertical-align: middle;\n",
       "    }\n",
       "\n",
       "    .dataframe tbody tr th {\n",
       "        vertical-align: top;\n",
       "    }\n",
       "\n",
       "    .dataframe thead th {\n",
       "        text-align: right;\n",
       "    }\n",
       "</style>\n",
       "<table border=\"1\" class=\"dataframe\">\n",
       "  <thead>\n",
       "    <tr style=\"text-align: right;\">\n",
       "      <th></th>\n",
       "      <th>violent_crime</th>\n",
       "      <th>homicide</th>\n",
       "      <th>robbery</th>\n",
       "      <th>aggravated_assault</th>\n",
       "      <th>property_crime</th>\n",
       "      <th>burglary</th>\n",
       "      <th>motor_vehicle_theft</th>\n",
       "      <th>rape</th>\n",
       "    </tr>\n",
       "  </thead>\n",
       "  <tbody>\n",
       "    <tr>\n",
       "      <th>0</th>\n",
       "      <td>4457</td>\n",
       "      <td>53</td>\n",
       "      <td>1337</td>\n",
       "      <td>2763</td>\n",
       "      <td>32611</td>\n",
       "      <td>6908</td>\n",
       "      <td>3961</td>\n",
       "      <td>302</td>\n",
       "    </tr>\n",
       "    <tr>\n",
       "      <th>1</th>\n",
       "      <td>4457</td>\n",
       "      <td>53</td>\n",
       "      <td>1337</td>\n",
       "      <td>2763</td>\n",
       "      <td>32611</td>\n",
       "      <td>6908</td>\n",
       "      <td>3961</td>\n",
       "      <td>302</td>\n",
       "    </tr>\n",
       "    <tr>\n",
       "      <th>2</th>\n",
       "      <td>4457</td>\n",
       "      <td>53</td>\n",
       "      <td>1337</td>\n",
       "      <td>2763</td>\n",
       "      <td>32611</td>\n",
       "      <td>6908</td>\n",
       "      <td>3961</td>\n",
       "      <td>302</td>\n",
       "    </tr>\n",
       "    <tr>\n",
       "      <th>3</th>\n",
       "      <td>4599</td>\n",
       "      <td>55</td>\n",
       "      <td>1439</td>\n",
       "      <td>2801</td>\n",
       "      <td>32114</td>\n",
       "      <td>7035</td>\n",
       "      <td>3840</td>\n",
       "      <td>302</td>\n",
       "    </tr>\n",
       "    <tr>\n",
       "      <th>4</th>\n",
       "      <td>4599</td>\n",
       "      <td>55</td>\n",
       "      <td>1439</td>\n",
       "      <td>2801</td>\n",
       "      <td>32114</td>\n",
       "      <td>7035</td>\n",
       "      <td>3840</td>\n",
       "      <td>302</td>\n",
       "    </tr>\n",
       "  </tbody>\n",
       "</table>\n",
       "</div>"
      ],
      "text/plain": [
       "   violent_crime  homicide  robbery  aggravated_assault  property_crime  \\\n",
       "0           4457        53     1337                2763           32611   \n",
       "1           4457        53     1337                2763           32611   \n",
       "2           4457        53     1337                2763           32611   \n",
       "3           4599        55     1439                2801           32114   \n",
       "4           4599        55     1439                2801           32114   \n",
       "\n",
       "   burglary  motor_vehicle_theft  rape  \n",
       "0      6908                 3961   302  \n",
       "1      6908                 3961   302  \n",
       "2      6908                 3961   302  \n",
       "3      7035                 3840   302  \n",
       "4      7035                 3840   302  "
      ]
     },
     "execution_count": 2,
     "metadata": {},
     "output_type": "execute_result"
    }
   ],
   "source": [
    "features = [\"violent_crime\",\"homicide\",\"robbery\",\"aggravated_assault\",\"property_crime\",\"burglary\",\"motor_vehicle_theft\",\"rape\"]\n",
    "features_df = merged_df_spy[features]\n",
    "features_df.head()"
   ]
  },
  {
   "cell_type": "code",
   "execution_count": null,
   "metadata": {
    "collapsed": false,
    "jupyter": {
     "outputs_hidden": false
    },
    "pycharm": {
     "name": "#%%\n"
    }
   },
   "outputs": [],
   "source": [
    "from sklearn.manifold import TSNE\n",
    "import seaborn as sns\n",
    "# Initialize the t-SNE model\n",
    "tsne_model = TSNE(n_components=2, verbose=1, random_state=42, perplexity=4)\n",
    "\n",
    "# Fit the model to the data\n",
    "tsne_data = tsne_model.fit_transform(features_df)\n",
    "tsne_df = pd.DataFrame()\n",
    "tsne_df[\"comp-1\"]=tsne_data[:,0]\n",
    "tsne_df[\"comp-2\"]=tsne_data[:,1]\n",
    "\n",
    "# Binning\n",
    "n_bins = 4\n",
    "tsne_df[\"y\"]= pd.qcut(merged_df_spy[\"Close\"],n_bins)\n",
    "print(\"Length:\",len(tsne_df))\n",
    "# Visualize the low-dimensional data\n",
    "palette = sns.color_palette(\"hls\", n_bins)\n",
    "sns.scatterplot(x=\"comp-1\", y=\"comp-2\", hue=tsne_df.y.tolist(),\n",
    "                palette=palette,\n",
    "                data=tsne_df).set(title=\"Crime data T-SNE projection\")\n"
   ]
  },
  {
   "cell_type": "code",
   "execution_count": null,
   "outputs": [],
   "source": [
    "from sklearn.manifold import TSNE\n",
    "import matplotlib.pyplot as plt\n",
    "import seaborn as sns\n",
    "# Initialize the t-SNE model\n",
    "tsne_model = TSNE(n_components=2, verbose=1, random_state=42, perplexity=4)\n",
    "\n",
    "# Fit the model to the data\n",
    "tsne_data = tsne_model.fit_transform(features_df)\n",
    "tsne_df = pd.DataFrame()\n",
    "tsne_df[\"comp-1\"]=tsne_data[:,0]\n",
    "tsne_df[\"comp-2\"]=tsne_data[:,1]\n",
    "\n",
    "# Binning\n",
    "n_bins = 4\n",
    "tsne_df[\"y\"]= pd.qcut(merged_df_spy[\"Close\"],n_bins)\n",
    "print(\"Length:\",len(tsne_df))\n",
    "# Visualize the low-dimensional data\n",
    "palette = sns.color_palette(\"hls\", n_bins)\n",
    "plt.figure(facecolor=\"lightyellow\")\n",
    "sns.scatterplot(x=\"comp-1\", y=\"comp-2\", hue=tsne_df.y.tolist(),\n",
    "                palette=palette,\n",
    "                data=tsne_df).set(title=\"Crime data T-SNE projection\")\n",
    "plt.show()"
   ],
   "metadata": {
    "collapsed": false,
    "pycharm": {
     "name": "#%%\n"
    }
   }
  },
  {
   "cell_type": "code",
   "execution_count": null,
   "outputs": [],
   "source": [],
   "metadata": {
    "collapsed": false,
    "pycharm": {
     "name": "#%%\n"
    }
   }
  },
  {
   "cell_type": "code",
   "execution_count": null,
   "metadata": {},
   "outputs": [],
   "source": []
  },
  {
   "cell_type": "code",
   "execution_count": 7,
   "metadata": {
    "pycharm": {
     "name": "#%%\n"
    }
   },
   "outputs": [
    {
     "data": {
      "text/html": [
       "<div>\n",
       "<style scoped>\n",
       "    .dataframe tbody tr th:only-of-type {\n",
       "        vertical-align: middle;\n",
       "    }\n",
       "\n",
       "    .dataframe tbody tr th {\n",
       "        vertical-align: top;\n",
       "    }\n",
       "\n",
       "    .dataframe thead th {\n",
       "        text-align: right;\n",
       "    }\n",
       "</style>\n",
       "<table border=\"1\" class=\"dataframe\">\n",
       "  <thead>\n",
       "    <tr style=\"text-align: right;\">\n",
       "      <th></th>\n",
       "      <th>comp-1</th>\n",
       "      <th>comp-2</th>\n",
       "      <th>y</th>\n",
       "    </tr>\n",
       "  </thead>\n",
       "  <tbody>\n",
       "    <tr>\n",
       "      <th>0</th>\n",
       "      <td>126.706985</td>\n",
       "      <td>-0.593046</td>\n",
       "      <td>(75.979, 132.13]</td>\n",
       "    </tr>\n",
       "    <tr>\n",
       "      <th>1</th>\n",
       "      <td>171.303375</td>\n",
       "      <td>-34.419411</td>\n",
       "      <td>(75.979, 132.13]</td>\n",
       "    </tr>\n",
       "    <tr>\n",
       "      <th>2</th>\n",
       "      <td>118.296898</td>\n",
       "      <td>-56.381676</td>\n",
       "      <td>(75.979, 132.13]</td>\n",
       "    </tr>\n",
       "    <tr>\n",
       "      <th>3</th>\n",
       "      <td>-62.144493</td>\n",
       "      <td>15.388528</td>\n",
       "      <td>(75.979, 132.13]</td>\n",
       "    </tr>\n",
       "    <tr>\n",
       "      <th>4</th>\n",
       "      <td>-62.144493</td>\n",
       "      <td>15.388528</td>\n",
       "      <td>(75.979, 132.13]</td>\n",
       "    </tr>\n",
       "  </tbody>\n",
       "</table>\n",
       "</div>"
      ],
      "text/plain": [
       "       comp-1     comp-2                 y\n",
       "0  126.706985  -0.593046  (75.979, 132.13]\n",
       "1  171.303375 -34.419411  (75.979, 132.13]\n",
       "2  118.296898 -56.381676  (75.979, 132.13]\n",
       "3  -62.144493  15.388528  (75.979, 132.13]\n",
       "4  -62.144493  15.388528  (75.979, 132.13]"
      ]
     },
     "execution_count": 7,
     "metadata": {},
     "output_type": "execute_result"
    }
   ],
   "source": [
    "tsne_df.head()"
   ]
  },
  {
   "cell_type": "code",
   "execution_count": null,
   "metadata": {
    "pycharm": {
     "name": "#%%\n"
    }
   },
   "outputs": [],
   "source": [
    "X_train, X_test, y_train, y_test = train_test_split(features_scaled, target, test_size=0.2)\n",
    "\n",
    "# # Define and fit the Multinomial Naive Bayes model\n",
    "model = MultinomialNB(alpha=0.5)\n",
    "model.fit(X_train, y_train)\n",
    "\n",
    "# Make predictions\n",
    "y_pred = model.predict(X_test)\n",
    "\n",
    "accuracy = accuracy_score(y_test, y_pred)\n",
    "f1 = f1_score(y_test, y_pred, average='weighted')\n",
    "\n",
    "print(\"Accuracy:\", accuracy)\n",
    "print(\"F1-Score:\", f1)"
   ]
  }
 ],
 "metadata": {
  "kernelspec": {
   "display_name": "Python 3 (ipykernel)",
   "language": "python",
   "name": "python3"
  },
  "language_info": {
   "codemirror_mode": {
    "name": "ipython",
    "version": 3
   },
   "file_extension": ".py",
   "mimetype": "text/x-python",
   "name": "python",
   "nbconvert_exporter": "python",
   "pygments_lexer": "ipython3",
   "version": "3.9.6"
  }
 },
 "nbformat": 4,
 "nbformat_minor": 4
}