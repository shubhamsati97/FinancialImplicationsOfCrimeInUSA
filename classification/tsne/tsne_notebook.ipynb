{
 "cells": [
  {
   "cell_type": "code",
   "execution_count": 22,
   "metadata": {
    "pycharm": {
     "name": "#%%\n"
    }
   },
   "outputs": [],
   "source": [
    "import pandas as pd\n",
    "from sklearn.model_selection import train_test_split\n",
    "from sklearn.naive_bayes import MultinomialNB\n",
    "from sklearn.preprocessing import MinMaxScaler, Normalizer\n",
    "from sklearn.metrics import accuracy_score, f1_score\n",
    "\n",
    "spy_df = pd.read_csv(\"../../data/finance/csv_files/monthly_spy_data.csv\")\n",
    "spy_df['Date'] = pd.to_datetime(spy_df['Date'])\n",
    "spy_df['year'] = spy_df['Date'].dt.year\n",
    "spy_df['month'] = spy_df['Date'].dt.month\n",
    "spy_df_extracted = spy_df[['year', 'month', 'Close']]\n",
    "\n",
    "crime_df = pd.read_csv(\"../../data/crime/monthly_crime.csv\")\n",
    "total_crime_extracted = crime_df[['year', 'month', 'violent_crime', 'homicide', 'robbery', 'aggravated_assault', 'property_crime', 'burglary','motor_vehicle_theft','rape']]\n",
    "\n",
    "merged_df_spy = pd.merge(total_crime_extracted, spy_df_extracted, on=['year', 'month'], how='inner')\n",
    "\n",
    "scaler = MinMaxScaler()\n",
    "features = merged_df_spy.iloc[:, :-1]\n",
    "features_scaled = scaler.fit_transform(features)\n",
    "\n",
    "normalizer = Normalizer()\n",
    "target = merged_df_spy.iloc[:, -1:]\n",
    "target = normalizer.fit_transform(target)"
   ]
  },
  {
   "cell_type": "code",
   "execution_count": 24,
   "metadata": {},
   "outputs": [
    {
     "data": {
      "text/plain": [
       "array([[0.        , 0.81818182, 0.94444444, ..., 0.95689655, 1.        ,\n",
       "        0.18147448],\n",
       "       [0.        , 0.90909091, 0.94444444, ..., 0.95689655, 1.        ,\n",
       "        0.18147448],\n",
       "       [0.        , 1.        , 0.94444444, ..., 0.95689655, 1.        ,\n",
       "        0.18147448],\n",
       "       ...,\n",
       "       [1.        , 0.81818182, 0.79147105, ..., 0.21845194, 0.66078502,\n",
       "        0.41776938],\n",
       "       [1.        , 0.90909091, 0.79147105, ..., 0.21845194, 0.66078502,\n",
       "        0.41776938],\n",
       "       [1.        , 1.        , 0.79147105, ..., 0.21845194, 0.66078502,\n",
       "        0.41776938]])"
      ]
     },
     "execution_count": 24,
     "metadata": {},
     "output_type": "execute_result"
    }
   ],
   "source": [
    "features_scaled"
   ]
  },
  {
   "cell_type": "code",
   "execution_count": null,
   "metadata": {
    "pycharm": {
     "name": "#%%\n"
    }
   },
   "outputs": [],
   "source": [
    "from sklearn.decomposition import PCA\n",
    "\n",
    "pca = PCA(n_components=2)\n",
    "pca.fit(features_scaled)\n",
    "features_scaled = pca.transform(features_scaled)"
   ]
  },
  {
   "cell_type": "code",
   "execution_count": 18,
   "metadata": {},
   "outputs": [
    {
     "data": {
      "text/html": [
       "<div>\n",
       "<style scoped>\n",
       "    .dataframe tbody tr th:only-of-type {\n",
       "        vertical-align: middle;\n",
       "    }\n",
       "\n",
       "    .dataframe tbody tr th {\n",
       "        vertical-align: top;\n",
       "    }\n",
       "\n",
       "    .dataframe thead th {\n",
       "        text-align: right;\n",
       "    }\n",
       "</style>\n",
       "<table border=\"1\" class=\"dataframe\">\n",
       "  <thead>\n",
       "    <tr style=\"text-align: right;\">\n",
       "      <th></th>\n",
       "      <th>year</th>\n",
       "      <th>month</th>\n",
       "      <th>violent_crime</th>\n",
       "      <th>homicide</th>\n",
       "      <th>robbery</th>\n",
       "      <th>aggravated_assault</th>\n",
       "      <th>property_crime</th>\n",
       "      <th>burglary</th>\n",
       "      <th>motor_vehicle_theft</th>\n",
       "      <th>rape</th>\n",
       "      <th>Close</th>\n",
       "    </tr>\n",
       "  </thead>\n",
       "  <tbody>\n",
       "    <tr>\n",
       "      <th>0</th>\n",
       "      <td>2005</td>\n",
       "      <td>10</td>\n",
       "      <td>4457</td>\n",
       "      <td>53</td>\n",
       "      <td>1337</td>\n",
       "      <td>2763</td>\n",
       "      <td>32611</td>\n",
       "      <td>6908</td>\n",
       "      <td>3961</td>\n",
       "      <td>302</td>\n",
       "      <td>118.763750</td>\n",
       "    </tr>\n",
       "    <tr>\n",
       "      <th>1</th>\n",
       "      <td>2005</td>\n",
       "      <td>11</td>\n",
       "      <td>4457</td>\n",
       "      <td>53</td>\n",
       "      <td>1337</td>\n",
       "      <td>2763</td>\n",
       "      <td>32611</td>\n",
       "      <td>6908</td>\n",
       "      <td>3961</td>\n",
       "      <td>302</td>\n",
       "      <td>124.033809</td>\n",
       "    </tr>\n",
       "    <tr>\n",
       "      <th>2</th>\n",
       "      <td>2005</td>\n",
       "      <td>12</td>\n",
       "      <td>4457</td>\n",
       "      <td>53</td>\n",
       "      <td>1337</td>\n",
       "      <td>2763</td>\n",
       "      <td>32611</td>\n",
       "      <td>6908</td>\n",
       "      <td>3961</td>\n",
       "      <td>302</td>\n",
       "      <td>126.317143</td>\n",
       "    </tr>\n",
       "    <tr>\n",
       "      <th>3</th>\n",
       "      <td>2006</td>\n",
       "      <td>1</td>\n",
       "      <td>4599</td>\n",
       "      <td>55</td>\n",
       "      <td>1439</td>\n",
       "      <td>2801</td>\n",
       "      <td>32114</td>\n",
       "      <td>7035</td>\n",
       "      <td>3840</td>\n",
       "      <td>302</td>\n",
       "      <td>127.809000</td>\n",
       "    </tr>\n",
       "    <tr>\n",
       "      <th>4</th>\n",
       "      <td>2006</td>\n",
       "      <td>2</td>\n",
       "      <td>4599</td>\n",
       "      <td>55</td>\n",
       "      <td>1439</td>\n",
       "      <td>2801</td>\n",
       "      <td>32114</td>\n",
       "      <td>7035</td>\n",
       "      <td>3840</td>\n",
       "      <td>302</td>\n",
       "      <td>127.767370</td>\n",
       "    </tr>\n",
       "  </tbody>\n",
       "</table>\n",
       "</div>"
      ],
      "text/plain": [
       "   year  month  violent_crime  homicide  robbery  aggravated_assault  \\\n",
       "0  2005     10           4457        53     1337                2763   \n",
       "1  2005     11           4457        53     1337                2763   \n",
       "2  2005     12           4457        53     1337                2763   \n",
       "3  2006      1           4599        55     1439                2801   \n",
       "4  2006      2           4599        55     1439                2801   \n",
       "\n",
       "   property_crime  burglary  motor_vehicle_theft  rape       Close  \n",
       "0           32611      6908                 3961   302  118.763750  \n",
       "1           32611      6908                 3961   302  124.033809  \n",
       "2           32611      6908                 3961   302  126.317143  \n",
       "3           32114      7035                 3840   302  127.809000  \n",
       "4           32114      7035                 3840   302  127.767370  "
      ]
     },
     "execution_count": 18,
     "metadata": {},
     "output_type": "execute_result"
    }
   ],
   "source": [
    "merged_df_spy.head()"
   ]
  },
  {
   "cell_type": "code",
   "execution_count": 25,
   "metadata": {},
   "outputs": [
    {
     "data": {
      "text/plain": [
       "207"
      ]
     },
     "execution_count": 25,
     "metadata": {},
     "output_type": "execute_result"
    }
   ],
   "source": [
    "len(merged_df_spy)"
   ]
  },
  {
   "cell_type": "code",
   "execution_count": 28,
   "metadata": {},
   "outputs": [
    {
     "data": {
      "text/html": [
       "<div>\n",
       "<style scoped>\n",
       "    .dataframe tbody tr th:only-of-type {\n",
       "        vertical-align: middle;\n",
       "    }\n",
       "\n",
       "    .dataframe tbody tr th {\n",
       "        vertical-align: top;\n",
       "    }\n",
       "\n",
       "    .dataframe thead th {\n",
       "        text-align: right;\n",
       "    }\n",
       "</style>\n",
       "<table border=\"1\" class=\"dataframe\">\n",
       "  <thead>\n",
       "    <tr style=\"text-align: right;\">\n",
       "      <th></th>\n",
       "      <th>violent_crime</th>\n",
       "      <th>homicide</th>\n",
       "      <th>robbery</th>\n",
       "      <th>aggravated_assault</th>\n",
       "      <th>property_crime</th>\n",
       "      <th>burglary</th>\n",
       "      <th>motor_vehicle_theft</th>\n",
       "      <th>rape</th>\n",
       "    </tr>\n",
       "  </thead>\n",
       "  <tbody>\n",
       "    <tr>\n",
       "      <th>0</th>\n",
       "      <td>4457</td>\n",
       "      <td>53</td>\n",
       "      <td>1337</td>\n",
       "      <td>2763</td>\n",
       "      <td>32611</td>\n",
       "      <td>6908</td>\n",
       "      <td>3961</td>\n",
       "      <td>302</td>\n",
       "    </tr>\n",
       "    <tr>\n",
       "      <th>1</th>\n",
       "      <td>4457</td>\n",
       "      <td>53</td>\n",
       "      <td>1337</td>\n",
       "      <td>2763</td>\n",
       "      <td>32611</td>\n",
       "      <td>6908</td>\n",
       "      <td>3961</td>\n",
       "      <td>302</td>\n",
       "    </tr>\n",
       "    <tr>\n",
       "      <th>2</th>\n",
       "      <td>4457</td>\n",
       "      <td>53</td>\n",
       "      <td>1337</td>\n",
       "      <td>2763</td>\n",
       "      <td>32611</td>\n",
       "      <td>6908</td>\n",
       "      <td>3961</td>\n",
       "      <td>302</td>\n",
       "    </tr>\n",
       "    <tr>\n",
       "      <th>3</th>\n",
       "      <td>4599</td>\n",
       "      <td>55</td>\n",
       "      <td>1439</td>\n",
       "      <td>2801</td>\n",
       "      <td>32114</td>\n",
       "      <td>7035</td>\n",
       "      <td>3840</td>\n",
       "      <td>302</td>\n",
       "    </tr>\n",
       "    <tr>\n",
       "      <th>4</th>\n",
       "      <td>4599</td>\n",
       "      <td>55</td>\n",
       "      <td>1439</td>\n",
       "      <td>2801</td>\n",
       "      <td>32114</td>\n",
       "      <td>7035</td>\n",
       "      <td>3840</td>\n",
       "      <td>302</td>\n",
       "    </tr>\n",
       "  </tbody>\n",
       "</table>\n",
       "</div>"
      ],
      "text/plain": [
       "   violent_crime  homicide  robbery  aggravated_assault  property_crime  \\\n",
       "0           4457        53     1337                2763           32611   \n",
       "1           4457        53     1337                2763           32611   \n",
       "2           4457        53     1337                2763           32611   \n",
       "3           4599        55     1439                2801           32114   \n",
       "4           4599        55     1439                2801           32114   \n",
       "\n",
       "   burglary  motor_vehicle_theft  rape  \n",
       "0      6908                 3961   302  \n",
       "1      6908                 3961   302  \n",
       "2      6908                 3961   302  \n",
       "3      7035                 3840   302  \n",
       "4      7035                 3840   302  "
      ]
     },
     "execution_count": 28,
     "metadata": {},
     "output_type": "execute_result"
    }
   ],
   "source": [
    "features = [\"violent_crime\",\"homicide\",\"robbery\",\"aggravated_assault\",\"property_crime\",\"burglary\",\"motor_vehicle_theft\",\"rape\"]\n",
    "features_df = merged_df_spy[features]\n",
    "features_df.head()"
   ]
  },
  {
   "cell_type": "code",
   "execution_count": 44,
   "metadata": {},
   "outputs": [
    {
     "name": "stdout",
     "output_type": "stream",
     "text": [
      "[t-SNE] Computing 91 nearest neighbors...\n",
      "[t-SNE] Indexed 207 samples in 0.001s...\n",
      "[t-SNE] Computed neighbors for 207 samples in 0.006s...\n",
      "[t-SNE] Computed conditional probabilities for sample 207 / 207\n",
      "[t-SNE] Mean sigma: 570.830390\n",
      "[t-SNE] KL divergence after 250 iterations with early exaggeration: 33.557472\n",
      "[t-SNE] KL divergence after 1000 iterations: -4.700970\n",
      "Length: 207\n"
     ]
    },
    {
     "data": {
      "text/plain": [
       "[Text(0.5, 1.0, 'Crime data T-SNE projection')]"
      ]
     },
     "execution_count": 44,
     "metadata": {},
     "output_type": "execute_result"
    },
    {
     "data": {
      "image/png": "[encoded data removed]",
      "text/plain": [
       "<Figure size 640x480 with 1 Axes>"
      ]
     },
     "metadata": {},
     "output_type": "display_data"
    }
   ],
   "source": [
    "from sklearn.manifold import TSNE\n",
    "import seaborn as sns\n",
    "# Initialize the t-SNE model\n",
    "tsne_model = TSNE(n_components=2, verbose=1, random_state=42)\n",
    "\n",
    "# Fit the model to the data\n",
    "tsne_data = tsne_model.fit_transform(features_df)\n",
    "tsne_df = pd.DataFrame()\n",
    "tsne_df[\"comp-1\"]=tsne_data[:,0]\n",
    "tsne_df[\"comp-2\"]=tsne_data[:,1]\n",
    "\n",
    "# Binning\n",
    "n_bins = 4\n",
    "tsne_df[\"y\"]= pd.qcut(merged_df_spy[\"Close\"],n_bins)\n",
    "print(\"Length:\",len(tsne_df))\n",
    "# Visualize the low-dimensional data\n",
    "palette = sns.color_palette(\"hls\", n_bins)\n",
    "sns.scatterplot(x=\"comp-1\", y=\"comp-2\", hue=tsne_df.y.tolist(),\n",
    "                palette=palette,\n",
    "                data=tsne_df).set(title=\"Crime data T-SNE projection\")\n"
   ]
  },
  {
   "cell_type": "code",
   "execution_count": 45,
   "metadata": {},
   "outputs": [
    {
     "data": {
      "text/html": [
       "<div>\n",
       "<style scoped>\n",
       "    .dataframe tbody tr th:only-of-type {\n",
       "        vertical-align: middle;\n",
       "    }\n",
       "\n",
       "    .dataframe tbody tr th {\n",
       "        vertical-align: top;\n",
       "    }\n",
       "\n",
       "    .dataframe thead th {\n",
       "        text-align: right;\n",
       "    }\n",
       "</style>\n",
       "<table border=\"1\" class=\"dataframe\">\n",
       "  <thead>\n",
       "    <tr style=\"text-align: right;\">\n",
       "      <th></th>\n",
       "      <th>comp-1</th>\n",
       "      <th>comp-2</th>\n",
       "      <th>y</th>\n",
       "    </tr>\n",
       "  </thead>\n",
       "  <tbody>\n",
       "    <tr>\n",
       "      <th>0</th>\n",
       "      <td>-44.505058</td>\n",
       "      <td>-486.718353</td>\n",
       "      <td>(75.979, 132.13]</td>\n",
       "    </tr>\n",
       "    <tr>\n",
       "      <th>1</th>\n",
       "      <td>-44.505058</td>\n",
       "      <td>-486.718353</td>\n",
       "      <td>(75.979, 132.13]</td>\n",
       "    </tr>\n",
       "    <tr>\n",
       "      <th>2</th>\n",
       "      <td>-44.505058</td>\n",
       "      <td>-486.718353</td>\n",
       "      <td>(75.979, 132.13]</td>\n",
       "    </tr>\n",
       "    <tr>\n",
       "      <th>3</th>\n",
       "      <td>-155.732132</td>\n",
       "      <td>-454.175629</td>\n",
       "      <td>(75.979, 132.13]</td>\n",
       "    </tr>\n",
       "    <tr>\n",
       "      <th>4</th>\n",
       "      <td>-155.732132</td>\n",
       "      <td>-454.175629</td>\n",
       "      <td>(75.979, 132.13]</td>\n",
       "    </tr>\n",
       "  </tbody>\n",
       "</table>\n",
       "</div>"
      ],
      "text/plain": [
       "       comp-1      comp-2                 y\n",
       "0  -44.505058 -486.718353  (75.979, 132.13]\n",
       "1  -44.505058 -486.718353  (75.979, 132.13]\n",
       "2  -44.505058 -486.718353  (75.979, 132.13]\n",
       "3 -155.732132 -454.175629  (75.979, 132.13]\n",
       "4 -155.732132 -454.175629  (75.979, 132.13]"
      ]
     },
     "execution_count": 45,
     "metadata": {},
     "output_type": "execute_result"
    }
   ],
   "source": [
    "tsne_df.head()"
   ]
  },
  {
   "cell_type": "code",
   "execution_count": null,
   "metadata": {},
   "outputs": [],
   "source": [
    "X_train, X_test, y_train, y_test = train_test_split(features_scaled, target, test_size=0.2)\n",
    "\n",
    "# # Define and fit the Multinomial Naive Bayes model\n",
    "model = MultinomialNB(alpha=0.5)\n",
    "model.fit(X_train, y_train)\n",
    "\n",
    "# Make predictions\n",
    "y_pred = model.predict(X_test)\n",
    "\n",
    "accuracy = accuracy_score(y_test, y_pred)\n",
    "f1 = f1_score(y_test, y_pred, average='weighted')\n",
    "\n",
    "print(\"Accuracy:\", accuracy)\n",
    "print(\"F1-Score:\", f1)"
   ]
  }
 ],
 "metadata": {
  "kernelspec": {
   "display_name": "Python 3 (ipykernel)",
   "language": "python",
   "name": "python3"
  },
  "language_info": {
   "codemirror_mode": {
    "name": "ipython",
    "version": 3
   },
   "file_extension": ".py",
   "mimetype": "text/x-python",
   "name": "python",
   "nbconvert_exporter": "python",
   "pygments_lexer": "ipython3",
   "version": "3.9.6"
  }
 },
 "nbformat": 4,
 "nbformat_minor": 4
}
