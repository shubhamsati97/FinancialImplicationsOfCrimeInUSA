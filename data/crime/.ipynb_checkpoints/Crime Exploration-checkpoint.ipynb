{
 "cells": [
  {
   "cell_type": "code",
   "execution_count": 1,
   "id": "fa731295",
   "metadata": {
    "pycharm": {
     "name": "#%%\n"
    }
   },
   "outputs": [],
   "source": [
    "import seaborn as sns\n",
    "import pandas as pd\n",
    "import matplotlib.pyplot as plt\n"
   ]
  },
  {
   "cell_type": "code",
   "execution_count": 2,
   "id": "dac3b3cd",
   "metadata": {
    "pycharm": {
     "name": "#%%\n"
    }
   },
   "outputs": [],
   "source": [
    "dataset_path = \"./estimated_crimes_1979_2022.csv\"\n",
    "data = pd.read_csv(dataset_path)\n",
    "data.head()\n",
    "data = data.drop([\"state_abbr\",\"state_name\",\"caveats\"],axis=1)\n"
   ]
  },
  {
   "cell_type": "code",
   "execution_count": 3,
   "id": "9fca18c3",
   "metadata": {
    "pycharm": {
     "name": "#%%\n"
    }
   },
   "outputs": [],
   "source": [
    "aggregation_functions = {}\n",
    "for col_name in data.columns:\n",
    "    if col_name == \"year\":\n",
    "        aggregation_functions[col_name] = 'equals'\n",
    "    if col_name == \"population\" :\n",
    "        aggregation_functions[col_name] = 'sum'\n",
    "    else:\n",
    "        aggregation_functions[col_name] = 'mean'\n",
    "    \n"
   ]
  },
  {
   "cell_type": "code",
   "execution_count": 4,
   "id": "e0a1fde0",
   "metadata": {
    "pycharm": {
     "name": "#%%\n"
    }
   },
   "outputs": [
    {
     "name": "stdout",
     "output_type": "stream",
     "text": [
      "44\n",
      "528\n"
     ]
    }
   ],
   "source": [
    "# aggregation_functions = {'population': 'sum','violent_crime':'avg','homicide':'sum','rape_legacy':'sum',}\n",
    "modified_data = data.groupby(data['year']).aggregate(aggregation_functions)\n",
    "modified_data['rape_legacy'].fillna(0, inplace=True)\n",
    "modified_data['rape_revised'].fillna(0, inplace=True)\n",
    "\n",
    "modified_data['rape'] = modified_data['rape_legacy']+ modified_data['rape_revised']\n",
    "modified_data = modified_data.drop([\"rape_legacy\",\"rape_revised\"],axis=1)\n",
    "\n",
    "print(len(modified_data))\n",
    "\n",
    "# corr = modified_data.corr()\n",
    "# ax = sns.heatmap(corr , vmin=0, vmax=1)\n",
    "# plt.show() \n",
    "\n",
    "df_expanded = modified_data.loc[modified_data.index.repeat(12)].reset_index(drop=True)\n",
    "print(len(df_expanded))\n"
   ]
  },
  {
   "cell_type": "code",
   "execution_count": 5,
   "id": "9bd7a96c",
   "metadata": {
    "pycharm": {
     "name": "#%%\n"
    }
   },
   "outputs": [
    {
     "name": "stdout",
     "output_type": "stream",
     "text": [
      "      year  population  violent_crime   homicide      robbery  \\\n",
      "0   1979.0   440196000    3871.286859  68.775641  1540.383013   \n",
      "1   1979.0   440196000    3871.286859  68.775641  1540.383013   \n",
      "2   1979.0   440196000    3871.286859  68.775641  1540.383013   \n",
      "3   1979.0   440196000    3871.286859  68.775641  1540.383013   \n",
      "4   1979.0   440196000    3871.286859  68.775641  1540.383013   \n",
      "5   1979.0   440196000    3871.286859  68.775641  1540.383013   \n",
      "6   1979.0   440196000    3871.286859  68.775641  1540.383013   \n",
      "7   1979.0   440196000    3871.286859  68.775641  1540.383013   \n",
      "8   1979.0   440196000    3871.286859  68.775641  1540.383013   \n",
      "9   1979.0   440196000    3871.286859  68.775641  1540.383013   \n",
      "10  1979.0   440196000    3871.286859  68.775641  1540.383013   \n",
      "11  1979.0   440196000    3871.286859  68.775641  1540.383013   \n",
      "12  1980.0   450738528    4308.610577  73.852564  1813.230769   \n",
      "13  1980.0   450738528    4308.610577  73.852564  1813.230769   \n",
      "14  1980.0   450738528    4308.610577  73.852564  1813.230769   \n",
      "15  1980.0   450738528    4308.610577  73.852564  1813.230769   \n",
      "16  1980.0   450738528    4308.610577  73.852564  1813.230769   \n",
      "17  1980.0   450738528    4308.610577  73.852564  1813.230769   \n",
      "18  1980.0   450738528    4308.610577  73.852564  1813.230769   \n",
      "19  1980.0   450738528    4308.610577  73.852564  1813.230769   \n",
      "20  1980.0   450738528    4308.610577  73.852564  1813.230769   \n",
      "21  1980.0   450738528    4308.610577  73.852564  1813.230769   \n",
      "22  1980.0   450738528    4308.610577  73.852564  1813.230769   \n",
      "23  1980.0   450738528    4308.610577  73.852564  1813.230769   \n",
      "\n",
      "    aggravated_assault  property_crime      burglary       larceny  \\\n",
      "0          2017.336538    35388.241987  10665.724359  21155.940705   \n",
      "1          2017.336538    35388.241987  10665.724359  21155.940705   \n",
      "2          2017.336538    35388.241987  10665.724359  21155.940705   \n",
      "3          2017.336538    35388.241987  10665.724359  21155.940705   \n",
      "4          2017.336538    35388.241987  10665.724359  21155.940705   \n",
      "5          2017.336538    35388.241987  10665.724359  21155.940705   \n",
      "6          2017.336538    35388.241987  10665.724359  21155.940705   \n",
      "7          2017.336538    35388.241987  10665.724359  21155.940705   \n",
      "8          2017.336538    35388.241987  10665.724359  21155.940705   \n",
      "9          2017.336538    35388.241987  10665.724359  21155.940705   \n",
      "10         2017.336538    35388.241987  10665.724359  21155.940705   \n",
      "11         2017.336538    35388.241987  10665.724359  21155.940705   \n",
      "12         2155.604167    38664.326923  12163.990385  22873.326923   \n",
      "13         2155.604167    38664.326923  12163.990385  22873.326923   \n",
      "14         2155.604167    38664.326923  12163.990385  22873.326923   \n",
      "15         2155.604167    38664.326923  12163.990385  22873.326923   \n",
      "16         2155.604167    38664.326923  12163.990385  22873.326923   \n",
      "17         2155.604167    38664.326923  12163.990385  22873.326923   \n",
      "18         2155.604167    38664.326923  12163.990385  22873.326923   \n",
      "19         2155.604167    38664.326923  12163.990385  22873.326923   \n",
      "20         2155.604167    38664.326923  12163.990385  22873.326923   \n",
      "21         2155.604167    38664.326923  12163.990385  22873.326923   \n",
      "22         2155.604167    38664.326923  12163.990385  22873.326923   \n",
      "23         2155.604167    38664.326923  12163.990385  22873.326923   \n",
      "\n",
      "    motor_vehicle_theft        rape  month  \n",
      "0           3566.576923  244.791667      1  \n",
      "1           3566.576923  244.791667      2  \n",
      "2           3566.576923  244.791667      3  \n",
      "3           3566.576923  244.791667      4  \n",
      "4           3566.576923  244.791667      5  \n",
      "5           3566.576923  244.791667      6  \n",
      "6           3566.576923  244.791667      7  \n",
      "7           3566.576923  244.791667      8  \n",
      "8           3566.576923  244.791667      9  \n",
      "9           3566.576923  244.791667     10  \n",
      "10          3566.576923  244.791667     11  \n",
      "11          3566.576923  244.791667     12  \n",
      "12          3627.169872  265.923077      1  \n",
      "13          3627.169872  265.923077      2  \n",
      "14          3627.169872  265.923077      3  \n",
      "15          3627.169872  265.923077      4  \n",
      "16          3627.169872  265.923077      5  \n",
      "17          3627.169872  265.923077      6  \n",
      "18          3627.169872  265.923077      7  \n",
      "19          3627.169872  265.923077      8  \n",
      "20          3627.169872  265.923077      9  \n",
      "21          3627.169872  265.923077     10  \n",
      "22          3627.169872  265.923077     11  \n",
      "23          3627.169872  265.923077     12  \n",
      "    year  population  violent_crime  homicide  robbery  aggravated_assault  \\\n",
      "0   1979   440196000           3871        68     1540                2017   \n",
      "1   1979   440196000           3871        68     1540                2017   \n",
      "2   1979   440196000           3871        68     1540                2017   \n",
      "3   1979   440196000           3871        68     1540                2017   \n",
      "4   1979   440196000           3871        68     1540                2017   \n",
      "5   1979   440196000           3871        68     1540                2017   \n",
      "6   1979   440196000           3871        68     1540                2017   \n",
      "7   1979   440196000           3871        68     1540                2017   \n",
      "8   1979   440196000           3871        68     1540                2017   \n",
      "9   1979   440196000           3871        68     1540                2017   \n",
      "10  1979   440196000           3871        68     1540                2017   \n",
      "11  1979   440196000           3871        68     1540                2017   \n",
      "12  1980   450738528           4308        73     1813                2155   \n",
      "13  1980   450738528           4308        73     1813                2155   \n",
      "14  1980   450738528           4308        73     1813                2155   \n",
      "15  1980   450738528           4308        73     1813                2155   \n",
      "16  1980   450738528           4308        73     1813                2155   \n",
      "17  1980   450738528           4308        73     1813                2155   \n",
      "18  1980   450738528           4308        73     1813                2155   \n",
      "19  1980   450738528           4308        73     1813                2155   \n",
      "20  1980   450738528           4308        73     1813                2155   \n",
      "21  1980   450738528           4308        73     1813                2155   \n",
      "22  1980   450738528           4308        73     1813                2155   \n",
      "23  1980   450738528           4308        73     1813                2155   \n",
      "\n",
      "    property_crime  burglary  larceny  motor_vehicle_theft  rape  month  \n",
      "0            35388     10665    21155                 3566   244      1  \n",
      "1            35388     10665    21155                 3566   244      2  \n",
      "2            35388     10665    21155                 3566   244      3  \n",
      "3            35388     10665    21155                 3566   244      4  \n",
      "4            35388     10665    21155                 3566   244      5  \n",
      "5            35388     10665    21155                 3566   244      6  \n",
      "6            35388     10665    21155                 3566   244      7  \n",
      "7            35388     10665    21155                 3566   244      8  \n",
      "8            35388     10665    21155                 3566   244      9  \n",
      "9            35388     10665    21155                 3566   244     10  \n",
      "10           35388     10665    21155                 3566   244     11  \n",
      "11           35388     10665    21155                 3566   244     12  \n",
      "12           38664     12163    22873                 3627   265      1  \n",
      "13           38664     12163    22873                 3627   265      2  \n",
      "14           38664     12163    22873                 3627   265      3  \n",
      "15           38664     12163    22873                 3627   265      4  \n",
      "16           38664     12163    22873                 3627   265      5  \n",
      "17           38664     12163    22873                 3627   265      6  \n",
      "18           38664     12163    22873                 3627   265      7  \n",
      "19           38664     12163    22873                 3627   265      8  \n",
      "20           38664     12163    22873                 3627   265      9  \n",
      "21           38664     12163    22873                 3627   265     10  \n",
      "22           38664     12163    22873                 3627   265     11  \n",
      "23           38664     12163    22873                 3627   265     12  \n"
     ]
    }
   ],
   "source": [
    "df_expanded[\"month\"] = (df_expanded.index % 12) + 1\n",
    "df_expanded[\"violent_crime\"]  = df_expanded[\"violent_crime\"] / 12\n",
    "df_expanded[\"homicide\"]  = df_expanded[\"homicide\"] / 12\n",
    "df_expanded[\"robbery\"]  = df_expanded[\"robbery\"] / 12\n",
    "df_expanded[\"aggravated_assault\"]  = df_expanded[\"aggravated_assault\"] / 12\n",
    "df_expanded[\"property_crime\"]  = df_expanded[\"property_crime\"] / 12\n",
    "df_expanded[\"burglary\"]  = df_expanded[\"burglary\"] / 12\n",
    "df_expanded[\"larceny\"]  = df_expanded[\"larceny\"] / 12\n",
    "df_expanded[\"motor_vehicle_theft\"]  = df_expanded[\"motor_vehicle_theft\"] / 12\n",
    "df_expanded[\"rape\"]  = df_expanded[\"rape\"] / 12\n",
    "print(df_expanded[:24])\n",
    "df_expanded = df_expanded.astype(int)\n",
    "print(df_expanded[:24])\n"
   ]
  },
  {
   "cell_type": "code",
   "execution_count": 6,
   "id": "9af5d745",
   "metadata": {
    "pycharm": {
     "name": "#%%\n"
    }
   },
   "outputs": [],
   "source": [
    "df_expanded.to_csv('monthly_crime_2.csv', index=False)\n"
   ]
  },
  {
   "cell_type": "code",
   "execution_count": 7,
   "id": "cd47ea64",
   "metadata": {
    "pycharm": {
     "name": "#%%\n"
    }
   },
   "outputs": [
    {
     "name": "stdout",
     "output_type": "stream",
     "text": [
      "528\n"
     ]
    }
   ],
   "source": [
    "print(len(df_expanded))"
   ]
  },
  {
   "cell_type": "code",
   "execution_count": 11,
   "id": "502161a0",
   "metadata": {
    "pycharm": {
     "name": "#%%\n"
    }
   },
   "outputs": [],
   "source": [
    "xlre_df = pd.read_csv(\"../finance/csv_files/monthly_xlre_data.csv\")\n",
    "xlre_df['Date'] = pd.to_datetime(xlre_df['Date'])\n",
    "xlre_df['year'] = xlre_df['Date'].dt.year\n",
    "xlre_df['month'] = xlre_df['Date'].dt.month\n",
    "xlre_df_extracted = xlre_df[['year', 'month', 'Close']]\n",
    "merged_df_xlre = pd.merge(df_expanded, xlre_df_extracted, on=['year', 'month'], how='inner')"
   ]
  },
  {
   "cell_type": "code",
   "execution_count": 12,
   "id": "f9a3c8b3-0948-4415-ae59-328c87ccec50",
   "metadata": {},
   "outputs": [
    {
     "data": {
      "text/plain": [
       "87"
      ]
     },
     "execution_count": 12,
     "metadata": {},
     "output_type": "execute_result"
    }
   ],
   "source": [
    "len(merged_df_xlre)"
   ]
  },
  {
   "cell_type": "code",
   "execution_count": 14,
   "id": "79601321-af2e-4f0c-9a1e-27b3d283d763",
   "metadata": {},
   "outputs": [
    {
     "name": "stdout",
     "output_type": "stream",
     "text": [
      "0.41287483641751577\n"
     ]
    }
   ],
   "source": [
    "from scipy.stats import chi2_contingency\n",
    "features = [\"violent_crime\",\"homicide\",\"robbery\",\"aggravated_assault\",\"property_crime\",\"burglary\",\"motor_vehicle_theft\",\"rape\"]\n",
    "total = 0\n",
    "contingency_table = pd.crosstab(merged_df_xlre['property_crime'], merged_df_xlre['Close'])\n",
    "chi2, p, _, _ = chi2_contingency(contingency_table)\n",
    "print(p)"
   ]
  },
  {
   "cell_type": "code",
   "execution_count": null,
   "id": "5d8fcf1b-45fd-48e5-a08e-315e8225215d",
   "metadata": {},
   "outputs": [],
   "source": []
  }
 ],
 "metadata": {
  "kernelspec": {
   "display_name": "Python 3 (ipykernel)",
   "language": "python",
   "name": "python3"
  },
  "language_info": {
   "codemirror_mode": {
    "name": "ipython",
    "version": 3
   },
   "file_extension": ".py",
   "mimetype": "text/x-python",
   "name": "python",
   "nbconvert_exporter": "python",
   "pygments_lexer": "ipython3",
   "version": "3.9.6"
  }
 },
 "nbformat": 4,
 "nbformat_minor": 5
}
