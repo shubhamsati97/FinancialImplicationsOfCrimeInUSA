{
 "cells": [
  {
   "cell_type": "code",
   "execution_count": 1,
   "metadata": {
    "collapsed": true,
    "pycharm": {
     "name": "#%%\n"
    }
   },
   "outputs": [
    {
     "name": "stderr",
     "output_type": "stream",
     "text": [
      "/Users/shubhamsati/Workspace/FinancialImplicationsOfCrimeInUSA/venv/lib/python3.9/site-packages/urllib3/__init__.py:34: NotOpenSSLWarning: urllib3 v2.0 only supports OpenSSL 1.1.1+, currently the 'ssl' module is compiled with 'LibreSSL 2.8.3'. See: https://github.com/urllib3/urllib3/issues/3020\n",
      "  warnings.warn(\n"
     ]
    }
   ],
   "source": [
    "import yfinance as yf\n",
    "from datetime import datetime"
   ]
  },
  {
   "cell_type": "code",
   "execution_count": 2,
   "outputs": [],
   "source": [
    "ticker = '^GSPC'\n",
    "start_date = datetime(2018, 10, 10)\n",
    "end_date = datetime.now()"
   ],
   "metadata": {
    "collapsed": false,
    "pycharm": {
     "name": "#%%\n"
    }
   }
  },
  {
   "cell_type": "code",
   "execution_count": 4,
   "outputs": [
    {
     "name": "stdout",
     "output_type": "stream",
     "text": [
      "[*********************100%%**********************]  1 of 1 completed\n"
     ]
    }
   ],
   "source": [
    "data = yf.download(ticker, start=start_date, end=end_date)"
   ],
   "metadata": {
    "collapsed": false,
    "pycharm": {
     "name": "#%%\n"
    }
   }
  },
  {
   "cell_type": "code",
   "execution_count": 5,
   "outputs": [
    {
     "data": {
      "text/plain": "                   Open         High          Low        Close    Adj Close  \\\nDate                                                                          \n2018-10-10  2873.899902  2874.020020  2784.860107  2785.679932  2785.679932   \n2018-10-11  2776.870117  2795.139893  2710.510010  2728.370117  2728.370117   \n2018-10-12  2770.540039  2775.770020  2729.439941  2767.129883  2767.129883   \n2018-10-15  2763.830078  2775.989990  2749.030029  2750.790039  2750.790039   \n2018-10-16  2767.050049  2813.459961  2766.909912  2809.919922  2809.919922   \n\n                Volume  \nDate                    \n2018-10-10  4554260000  \n2018-10-11  4914090000  \n2018-10-12  4024010000  \n2018-10-15  3327160000  \n2018-10-16  3460260000  ",
      "text/html": "<div>\n<style scoped>\n    .dataframe tbody tr th:only-of-type {\n        vertical-align: middle;\n    }\n\n    .dataframe tbody tr th {\n        vertical-align: top;\n    }\n\n    .dataframe thead th {\n        text-align: right;\n    }\n</style>\n<table border=\"1\" class=\"dataframe\">\n  <thead>\n    <tr style=\"text-align: right;\">\n      <th></th>\n      <th>Open</th>\n      <th>High</th>\n      <th>Low</th>\n      <th>Close</th>\n      <th>Adj Close</th>\n      <th>Volume</th>\n    </tr>\n    <tr>\n      <th>Date</th>\n      <th></th>\n      <th></th>\n      <th></th>\n      <th></th>\n      <th></th>\n      <th></th>\n    </tr>\n  </thead>\n  <tbody>\n    <tr>\n      <th>2018-10-10</th>\n      <td>2873.899902</td>\n      <td>2874.020020</td>\n      <td>2784.860107</td>\n      <td>2785.679932</td>\n      <td>2785.679932</td>\n      <td>4554260000</td>\n    </tr>\n    <tr>\n      <th>2018-10-11</th>\n      <td>2776.870117</td>\n      <td>2795.139893</td>\n      <td>2710.510010</td>\n      <td>2728.370117</td>\n      <td>2728.370117</td>\n      <td>4914090000</td>\n    </tr>\n    <tr>\n      <th>2018-10-12</th>\n      <td>2770.540039</td>\n      <td>2775.770020</td>\n      <td>2729.439941</td>\n      <td>2767.129883</td>\n      <td>2767.129883</td>\n      <td>4024010000</td>\n    </tr>\n    <tr>\n      <th>2018-10-15</th>\n      <td>2763.830078</td>\n      <td>2775.989990</td>\n      <td>2749.030029</td>\n      <td>2750.790039</td>\n      <td>2750.790039</td>\n      <td>3327160000</td>\n    </tr>\n    <tr>\n      <th>2018-10-16</th>\n      <td>2767.050049</td>\n      <td>2813.459961</td>\n      <td>2766.909912</td>\n      <td>2809.919922</td>\n      <td>2809.919922</td>\n      <td>3460260000</td>\n    </tr>\n  </tbody>\n</table>\n</div>"
     },
     "execution_count": 5,
     "metadata": {},
     "output_type": "execute_result"
    }
   ],
   "source": [
    "data.head()"
   ],
   "metadata": {
    "collapsed": false,
    "pycharm": {
     "name": "#%%\n"
    }
   }
  },
  {
   "cell_type": "code",
   "execution_count": null,
   "outputs": [],
   "source": [],
   "metadata": {
    "collapsed": false,
    "pycharm": {
     "name": "#%%\n"
    }
   }
  }
 ],
 "metadata": {
  "kernelspec": {
   "display_name": "Python 3",
   "language": "python",
   "name": "python3"
  },
  "language_info": {
   "codemirror_mode": {
    "name": "ipython",
    "version": 2
   },
   "file_extension": ".py",
   "mimetype": "text/x-python",
   "name": "python",
   "nbconvert_exporter": "python",
   "pygments_lexer": "ipython2",
   "version": "2.7.6"
  }
 },
 "nbformat": 4,
 "nbformat_minor": 0
}